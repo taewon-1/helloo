{
 "cells": [
  {
   "cell_type": "code",
   "execution_count": 67,
   "id": "3f1ecf63",
   "metadata": {},
   "outputs": [
    {
     "name": "stdout",
     "output_type": "stream",
     "text": [
      "Ajou Univvvv\n",
      "<class 'str'>\n",
      "jo\n"
     ]
    }
   ],
   "source": [
    "b = \"Ajou Univvvv\"\n",
    "\n",
    "print(b)\n",
    "print(type(b))\n",
    "print(b[1:3])"
   ]
  },
  {
   "cell_type": "code",
   "execution_count": 79,
   "id": "1d19faf8",
   "metadata": {},
   "outputs": [
    {
     "name": "stdout",
     "output_type": "stream",
     "text": [
      "I will study 4 hours.\n"
     ]
    }
   ],
   "source": [
    "print(\"I will study %d hours.\" % 4)"
   ]
  },
  {
   "cell_type": "code",
   "execution_count": 108,
   "id": "e770f850",
   "metadata": {},
   "outputs": [
    {
     "name": "stdout",
     "output_type": "stream",
     "text": [
      "I will study 48.2 hour(s).\n"
     ]
    }
   ],
   "source": [
    "print(\"I will study %0.1f hour(s).\" % 48.23)"
   ]
  },
  {
   "cell_type": "code",
   "execution_count": 115,
   "id": "30d40376",
   "metadata": {},
   "outputs": [
    {
     "name": "stdout",
     "output_type": "stream",
     "text": [
      "152163515451\n",
      "abcdefghij\n"
     ]
    }
   ],
   "source": [
    "print(\"152163515451\")\n",
    "print(\"%s\" % \"abcdefghij\")"
   ]
  },
  {
   "cell_type": "code",
   "execution_count": 121,
   "id": "92da48d9",
   "metadata": {},
   "outputs": [
    {
     "name": "stdout",
     "output_type": "stream",
     "text": [
      "i will study 3 hard\n"
     ]
    }
   ],
   "source": [
    "print(\"i will study {k} hard\" .format(k = \"3\"))"
   ]
  },
  {
   "cell_type": "code",
   "execution_count": 125,
   "id": "62c35024",
   "metadata": {},
   "outputs": [
    {
     "name": "stdout",
     "output_type": "stream",
     "text": [
      "I will study 1.34 hour(s).\n"
     ]
    }
   ],
   "source": [
    "hours = 1.3423\n",
    "\n",
    "print(\"I will study {0:0.2f} hour(s).\".format(hours))"
   ]
  },
  {
   "cell_type": "code",
   "execution_count": 140,
   "id": "6547739f",
   "metadata": {},
   "outputs": [
    {
     "ename": "ValueError",
     "evalue": "Invalid format specifier",
     "output_type": "error",
     "traceback": [
      "\u001b[1;31m---------------------------------------------------------------------------\u001b[0m",
      "\u001b[1;31mValueError\u001b[0m                                Traceback (most recent call last)",
      "\u001b[1;32m~\\AppData\\Local\\Temp\\ipykernel_24596\\4108387703.py\u001b[0m in \u001b[0;36m<module>\u001b[1;34m\u001b[0m\n\u001b[1;32m----> 1\u001b[1;33m \u001b[0mprint\u001b[0m\u001b[1;33m(\u001b[0m\u001b[1;34m\"{0:20^100}\"\u001b[0m\u001b[1;33m.\u001b[0m\u001b[0mformat\u001b[0m\u001b[1;33m(\u001b[0m\u001b[1;34m\"hello\"\u001b[0m\u001b[1;33m)\u001b[0m\u001b[1;33m)\u001b[0m\u001b[1;33m\u001b[0m\u001b[1;33m\u001b[0m\u001b[0m\n\u001b[0m",
      "\u001b[1;31mValueError\u001b[0m: Invalid format specifier"
     ]
    }
   ],
   "source": [
    "print(\"{0:20==^100}\".format(\"hello\"))"
   ]
  },
  {
   "cell_type": "code",
   "execution_count": 148,
   "id": "3e5be9d5",
   "metadata": {},
   "outputs": [
    {
     "data": {
      "text/plain": [
       "5"
      ]
     },
     "execution_count": 148,
     "metadata": {},
     "output_type": "execute_result"
    }
   ],
   "source": [
    "k = \"happy\"\n",
    "len(k)"
   ]
  },
  {
   "cell_type": "code",
   "execution_count": null,
   "id": "238cc3e2",
   "metadata": {},
   "outputs": [],
   "source": []
  }
 ],
 "metadata": {
  "kernelspec": {
   "display_name": "Python 3 (ipykernel)",
   "language": "python",
   "name": "python3"
  },
  "language_info": {
   "codemirror_mode": {
    "name": "ipython",
    "version": 3
   },
   "file_extension": ".py",
   "mimetype": "text/x-python",
   "name": "python",
   "nbconvert_exporter": "python",
   "pygments_lexer": "ipython3",
   "version": "3.9.13"
  }
 },
 "nbformat": 4,
 "nbformat_minor": 5
}
